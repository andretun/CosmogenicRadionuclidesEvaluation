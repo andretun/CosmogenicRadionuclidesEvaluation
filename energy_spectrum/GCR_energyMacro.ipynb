{
 "cells": [
  {
   "cell_type": "markdown",
   "metadata": {},
   "source": [
    "# Energy macro generation for protons and alpha-particles\n",
    "\n",
    "In this notebook an improved energy macro generation for protons and alpha-particles is available.\n",
    "\n",
    "The calculations executed are the same as in the MATLAB scripts, but here the complete macro file is automatically written."
   ]
  },
  {
   "cell_type": "code",
   "execution_count": 17,
   "metadata": {},
   "outputs": [],
   "source": [
    "# Imports\n",
    "import numpy as np\n",
    "import matplotlib.pyplot as plt\n",
    "from scipy.integrate import quad"
   ]
  },
  {
   "cell_type": "code",
   "execution_count": 18,
   "metadata": {},
   "outputs": [],
   "source": [
    "# Constants for the calculations\n",
    "meteoriteRadius = 241; # m\n",
    "phi = 660; # MeV - modulation parameter"
   ]
  },
  {
   "cell_type": "markdown",
   "metadata": {},
   "source": [
    "Let's define the energy spectra of the two variables, both depending on energy of the particle and modulation parameter."
   ]
  },
  {
   "cell_type": "code",
   "execution_count": 19,
   "metadata": {},
   "outputs": [],
   "source": [
    "# Define energy spectrum for protons\n",
    "def proton_energy_spectrum(E: np.ndarray, phi: float) -> np.ndarray:\n",
    "    mp = 938.27208816; # MeV - proton rest mass\n",
    "    A  = 9.9e8;        # m-2 s-1 MeV-1 sr-1\n",
    "\n",
    "    x  = 780*np.exp(-2.5e-4*E)\n",
    "\n",
    "    J = A* E*(E + 2*mp)*np.power(E + x + phi, -2.65)\n",
    "    J = np.divide(J, (E + phi)*(E + 2*mp + phi) ); # particles/(MeV m2 sr s)\n",
    "\n",
    "    return J\n",
    "\n",
    "\n",
    "# Define energy spectrum for alphas\n",
    "def alpha_energy_spectrum(E: np.ndarray, phi: float) -> np.ndarray:\n",
    "    m = 3727.379378; # MeV - alpha particle mass\n",
    "    C = 5.5e7;       # particles/(MeV sr s m2)\n",
    "\n",
    "    k = phi*1.786e-3 - 0.1323\n",
    "\n",
    "    J = C*np.power(E, k)*(E + 2*m) \n",
    "    J = np.divide(J, (E + 700) * (E + 2*m + 700) * np.power(E + 312500*np.power(E, -2.5) + 700, 1.65 + k) )\n",
    "\n",
    "    return J"
   ]
  },
  {
   "cell_type": "markdown",
   "metadata": {},
   "source": [
    "Now, let's declare the energy bins for both spectra."
   ]
  },
  {
   "cell_type": "code",
   "execution_count": 20,
   "metadata": {},
   "outputs": [],
   "source": [
    "# Protons\n",
    "energy1 = np.arange(1,    10,     0.05, dtype=float) # MeV\n",
    "energy2 = np.arange(10,   100,    0.5,  dtype=float) # MeV\n",
    "energy3 = np.arange(100,  1000,   5,    dtype=float) # MeV\n",
    "energy4 = np.arange(1000, 5000,   50,   dtype=float) # MeV\n",
    "energy5 = np.arange(5000, 100500, 500,  dtype=float) # MeV\n",
    "energyProton  = np.concatenate((energy1, energy2, energy3, energy4, energy5), axis=0) # MeV\n",
    "\n",
    "# Alphas\n",
    "energy1 = np.arange(1,    100,    0.5,  dtype=float) # MeV\n",
    "energy2 = np.arange(100,  1000,   5,    dtype=float) # MeV\n",
    "energy3 = np.arange(1000, 3000,   50,   dtype=float) # MeV\n",
    "energy4 = np.arange(3000, 215500, 500,  dtype=float) # MeV\n",
    "energyAlpha = np.concatenate((energy1, energy2, energy3, energy4), axis=0) # MeV"
   ]
  },
  {
   "cell_type": "markdown",
   "metadata": {},
   "source": [
    "For simulaiton purposes, it is important to get the total number of particle per second impacting on the asteroid surface for both energy distributions."
   ]
  },
  {
   "cell_type": "code",
   "execution_count": 21,
   "metadata": {},
   "outputs": [
    {
     "name": "stdout",
     "output_type": "stream",
     "text": [
      "4445078772 \t protons/s \t on asteroid's surface\n",
      "520983707 \t alphas/s \t on asteroid's surface\n"
     ]
    }
   ],
   "source": [
    "# Print the number of particles per second impacting on the asteroid surface\n",
    "\n",
    "proton_spectrum_integral = quad(proton_energy_spectrum, 0, np.inf, args=(phi,))\n",
    "NumberOfProtons = proton_spectrum_integral[0]*4*np.pi*np.pi*meteoriteRadius*meteoriteRadius # particles/s\n",
    "print(f'{NumberOfProtons:.0f} \\t protons/s \\t on asteroid\\'s surface')\n",
    "\n",
    "alpha_spectrum_integral = quad(alpha_energy_spectrum, 0, np.inf, args=(phi,))\n",
    "NumberOfAlphas = alpha_spectrum_integral[0]*4*np.pi*np.pi*meteoriteRadius*meteoriteRadius # particles/s\n",
    "print(f'{NumberOfAlphas:.0f} \\t alphas/s \\t on asteroid\\'s surface')"
   ]
  },
  {
   "cell_type": "markdown",
   "metadata": {},
   "source": [
    "Now, everything is ready in orde to determine the energy spectrum histograms.\n",
    "\n",
    "The histograms are calculated by integral mean over the energy bins."
   ]
  },
  {
   "cell_type": "code",
   "execution_count": 22,
   "metadata": {},
   "outputs": [],
   "source": [
    "# Protons\n",
    "protonMeanFlux = []\n",
    "for index in range(len(energyProton)-1):\n",
    "    partialResultProton = quad(proton_energy_spectrum, energyProton[index], energyProton[index+1], args=(phi,))\n",
    "    partialResultProton = np.divide(partialResultProton, ( energyProton[index+1] - energyProton[index] )) # particles/(MeV m2 sr s)\n",
    "    protonMeanFlux.append(partialResultProton[0])\n",
    "protonMeanFlux = np.array(protonMeanFlux)\n",
    "energyProton = np.delete(energyProton, len(energyProton)-1)\n",
    "\n",
    "# Alphas\n",
    "alphaMeanFlux  = []\n",
    "for index in range(len(energyAlpha)-1):\n",
    "    partialResultAlpha = quad(alpha_energy_spectrum, energyAlpha[index], energyAlpha[index+1], args=(phi,))\n",
    "    partialResultAlpha = np.divide(partialResultAlpha, ( energyAlpha[index+1] - energyAlpha[index] )) # particles/(MeV m2 sr s)\n",
    "    alphaMeanFlux.append(partialResultAlpha[0])\n",
    "alphaMeanFlux  = np.array(alphaMeanFlux)\n",
    "energyAlpha  = np.delete(energyAlpha,  len(energyAlpha)-1)"
   ]
  },
  {
   "cell_type": "code",
   "execution_count": 23,
   "metadata": {},
   "outputs": [
    {
     "data": {
      "text/plain": [
       "Text(0.5, 1.0, 'Energy spectrum')"
      ]
     },
     "execution_count": 23,
     "metadata": {},
     "output_type": "execute_result"
    },
    {
     "data": {
      "image/png": "[encoded data removed]",
      "text/plain": [
       "<Figure size 1008x576 with 1 Axes>"
      ]
     },
     "metadata": {
      "needs_background": "light"
     },
     "output_type": "display_data"
    }
   ],
   "source": [
    "# Plot energy spectrum before saving\n",
    "plt.figure(figsize=(14,8))\n",
    "plt.step(energyProton, protonMeanFlux, label='protons')\n",
    "plt.step(energyAlpha,  alphaMeanFlux,  label='alphas')\n",
    "plt.xlabel('E [MeV]')\n",
    "plt.ylabel('Flux [$\\\\frac{particles}{MeV \\\\cdot m^2 \\\\cdot sr \\\\cdot s}$]')\n",
    "plt.legend()\n",
    "plt.title('Energy spectrum')"
   ]
  },
  {
   "cell_type": "markdown",
   "metadata": {},
   "source": [
    "Finally, write the macros are written with the information extracted."
   ]
  },
  {
   "cell_type": "code",
   "execution_count": 24,
   "metadata": {},
   "outputs": [],
   "source": [
    "# Protons\n",
    "with open('../macro/energyTest_M'+str(phi)+'.mac', 'w') as f:\n",
    "    \n",
    "    # Write the initial histrogram info\n",
    "    f.write('/gps/ene/type Arb\\n')\n",
    "    f.write('/gps/ene/diffspec 1\\n')\n",
    "    f.write('/gps/hist/type arb\\n\\n\\n')\n",
    "\n",
    "    # Write the energy spectrum\n",
    "    for index in range(len(energyProton)):\n",
    "        f.write(f'/gps/hist/point   {energyProton[index]:.2f}   {protonMeanFlux[index]:.9f}\\n')\n",
    "    \n",
    "    f.write('\\n\\n/gps/hist/inter Lin\\n')\n",
    "\n",
    "f.close()\n",
    "\n",
    "\n",
    "# Alphas\n",
    "with open('../macro/energyTest_M'+str(phi)+'_alpha.mac', 'w') as f:\n",
    "    \n",
    "    # Write the initial histrogram info\n",
    "    f.write('/gps/ene/type Arb\\n')\n",
    "    f.write('/gps/ene/diffspec 1\\n')\n",
    "    f.write('/gps/hist/type arb\\n\\n\\n')\n",
    "\n",
    "    # Write the energy spectrum\n",
    "    for index in range(len(energyAlpha)):\n",
    "        f.write(f'/gps/hist/point   {energyAlpha[index]:.2f}   {alphaMeanFlux[index]:.9f}\\n')\n",
    "    \n",
    "    f.write('\\n\\n/gps/hist/inter Lin\\n')\n",
    "\n",
    "f.close()"
   ]
  }
 ],
 "metadata": {
  "kernelspec": {
   "display_name": "base",
   "language": "python",
   "name": "python3"
  },
  "language_info": {
   "codemirror_mode": {
    "name": "ipython",
    "version": 3
   },
   "file_extension": ".py",
   "mimetype": "text/x-python",
   "name": "python",
   "nbconvert_exporter": "python",
   "pygments_lexer": "ipython3",
   "version": "3.9.12"
  },
  "orig_nbformat": 4
 },
 "nbformat": 4,
 "nbformat_minor": 2
}
